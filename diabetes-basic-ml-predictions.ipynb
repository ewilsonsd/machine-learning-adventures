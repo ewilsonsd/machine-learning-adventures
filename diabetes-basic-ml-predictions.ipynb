{
 "cells": [
  {
   "cell_type": "markdown",
   "execution_count": null,
   "metadata": {
    "papermill": {
     "duration": 0.012178,
     "end_time": "2020-08-21T19:47:17.484349",
     "exception": false,
     "start_time": "2020-08-21T19:47:17.472171",
     "status": "completed"
    },
    "tags": []
   },
   "source": [
    "# Diabetes Predictions in Pima Women"
   ]
  },
  {
   "cell_type": "markdown",
   "execution_count": null,
   "metadata": {
    "papermill": {
     "duration": 0.00932,
     "end_time": "2020-08-21T19:47:17.503984",
     "exception": false,
     "start_time": "2020-08-21T19:47:17.494664",
     "status": "completed"
    },
    "tags": []
   },
   "source": [
    "The following code will use four machine learning tools to determine if one tool is better than others in predicting diabetes in Pima Women, based on the data supplied. "
   ]
  },
  {
   "cell_type": "code",
   "execution_count": 1,
   "metadata": {
    "_cell_guid": "79c7e3d0-c299-4dcb-8224-4455121ee9b0",
    "_uuid": "d629ff2d2480ee46fbb7e2d37f6b5fab8052498a",
    "execution": {
     "iopub.execute_input": "2020-08-21T19:47:17.532913Z",
     "iopub.status.busy": "2020-08-21T19:47:17.531983Z",
     "iopub.status.idle": "2020-08-21T19:47:18.786840Z",
     "shell.execute_reply": "2020-08-21T19:47:18.785899Z"
    },
    "papermill": {
     "duration": 1.272979,
     "end_time": "2020-08-21T19:47:18.786984",
     "exception": false,
     "start_time": "2020-08-21T19:47:17.514005",
     "status": "completed"
    },
    "tags": []
   },
   "outputs": [],
   "source": [
    "import numpy as np \n",
    "import pandas as pd \n",
    "import matplotlib\n",
    "import matplotlib.pyplot as plt\n",
    "import seaborn as sns\n",
    "import warnings\n",
    "\n",
    "warnings.filterwarnings(\"ignore\")\n",
    "\n",
    "%matplotlib inline"
   ]
  },
  {
   "cell_type": "code",
   "execution_count": 2,
   "metadata": {
    "execution": {
     "iopub.execute_input": "2020-08-21T19:47:18.818091Z",
     "iopub.status.busy": "2020-08-21T19:47:18.817238Z",
     "iopub.status.idle": "2020-08-21T19:47:18.845208Z",
     "shell.execute_reply": "2020-08-21T19:47:18.844317Z"
    },
    "papermill": {
     "duration": 0.046984,
     "end_time": "2020-08-21T19:47:18.845394",
     "exception": false,
     "start_time": "2020-08-21T19:47:18.798410",
     "status": "completed"
    },
    "tags": []
   },
   "outputs": [],
   "source": [
    "df = pd.read_csv('../input/diabetes-dataset/diabetes.csv')"
   ]
  },
  {
   "cell_type": "code",
   "execution_count": 3,
   "metadata": {
    "execution": {
     "iopub.execute_input": "2020-08-21T19:47:18.883870Z",
     "iopub.status.busy": "2020-08-21T19:47:18.880675Z",
     "iopub.status.idle": "2020-08-21T19:47:18.897802Z",
     "shell.execute_reply": "2020-08-21T19:47:18.898427Z"
    },
    "papermill": {
     "duration": 0.043057,
     "end_time": "2020-08-21T19:47:18.898622",
     "exception": false,
     "start_time": "2020-08-21T19:47:18.855565",
     "status": "completed"
    },
    "tags": []
   },
   "outputs": [
    {
     "data": {
      "text/html": [
       "<div>\n",
       "<style scoped>\n",
       "    .dataframe tbody tr th:only-of-type {\n",
       "        vertical-align: middle;\n",
       "    }\n",
       "\n",
       "    .dataframe tbody tr th {\n",
       "        vertical-align: top;\n",
       "    }\n",
       "\n",
       "    .dataframe thead th {\n",
       "        text-align: right;\n",
       "    }\n",
       "</style>\n",
       "<table border=\"1\" class=\"dataframe\">\n",
       "  <thead>\n",
       "    <tr style=\"text-align: right;\">\n",
       "      <th></th>\n",
       "      <th>Pregnancies</th>\n",
       "      <th>Glucose</th>\n",
       "      <th>BloodPressure</th>\n",
       "      <th>SkinThickness</th>\n",
       "      <th>Insulin</th>\n",
       "      <th>BMI</th>\n",
       "      <th>DiabetesPedigreeFunction</th>\n",
       "      <th>Age</th>\n",
       "      <th>Outcome</th>\n",
       "    </tr>\n",
       "  </thead>\n",
       "  <tbody>\n",
       "    <tr>\n",
       "      <th>0</th>\n",
       "      <td>6</td>\n",
       "      <td>148</td>\n",
       "      <td>72</td>\n",
       "      <td>35</td>\n",
       "      <td>0</td>\n",
       "      <td>33.6</td>\n",
       "      <td>0.627</td>\n",
       "      <td>50</td>\n",
       "      <td>1</td>\n",
       "    </tr>\n",
       "    <tr>\n",
       "      <th>1</th>\n",
       "      <td>1</td>\n",
       "      <td>85</td>\n",
       "      <td>66</td>\n",
       "      <td>29</td>\n",
       "      <td>0</td>\n",
       "      <td>26.6</td>\n",
       "      <td>0.351</td>\n",
       "      <td>31</td>\n",
       "      <td>0</td>\n",
       "    </tr>\n",
       "    <tr>\n",
       "      <th>2</th>\n",
       "      <td>8</td>\n",
       "      <td>183</td>\n",
       "      <td>64</td>\n",
       "      <td>0</td>\n",
       "      <td>0</td>\n",
       "      <td>23.3</td>\n",
       "      <td>0.672</td>\n",
       "      <td>32</td>\n",
       "      <td>1</td>\n",
       "    </tr>\n",
       "    <tr>\n",
       "      <th>3</th>\n",
       "      <td>1</td>\n",
       "      <td>89</td>\n",
       "      <td>66</td>\n",
       "      <td>23</td>\n",
       "      <td>94</td>\n",
       "      <td>28.1</td>\n",
       "      <td>0.167</td>\n",
       "      <td>21</td>\n",
       "      <td>0</td>\n",
       "    </tr>\n",
       "    <tr>\n",
       "      <th>4</th>\n",
       "      <td>0</td>\n",
       "      <td>137</td>\n",
       "      <td>40</td>\n",
       "      <td>35</td>\n",
       "      <td>168</td>\n",
       "      <td>43.1</td>\n",
       "      <td>2.288</td>\n",
       "      <td>33</td>\n",
       "      <td>1</td>\n",
       "    </tr>\n",
       "  </tbody>\n",
       "</table>\n",
       "</div>"
      ],
      "text/plain": [
       "   Pregnancies  Glucose  BloodPressure  SkinThickness  Insulin   BMI  \\\n",
       "0            6      148             72             35        0  33.6   \n",
       "1            1       85             66             29        0  26.6   \n",
       "2            8      183             64              0        0  23.3   \n",
       "3            1       89             66             23       94  28.1   \n",
       "4            0      137             40             35      168  43.1   \n",
       "\n",
       "   DiabetesPedigreeFunction  Age  Outcome  \n",
       "0                     0.627   50        1  \n",
       "1                     0.351   31        0  \n",
       "2                     0.672   32        1  \n",
       "3                     0.167   21        0  \n",
       "4                     2.288   33        1  "
      ]
     },
     "execution_count": 3,
     "metadata": {},
     "output_type": "execute_result"
    }
   ],
   "source": [
    "df.head()"
   ]
  },
  {
   "cell_type": "markdown",
   "execution_count": null,
   "metadata": {
    "papermill": {
     "duration": 0.010391,
     "end_time": "2020-08-21T19:47:18.919868",
     "exception": false,
     "start_time": "2020-08-21T19:47:18.909477",
     "status": "completed"
    },
    "tags": []
   },
   "source": [
    "Following is a heatmat of correlation between various health variables and diabetes. The lighter the color, the more correlated a specific health variable is to being diabetic."
   ]
  },
  {
   "cell_type": "code",
   "execution_count": 4,
   "metadata": {
    "execution": {
     "iopub.execute_input": "2020-08-21T19:47:18.949802Z",
     "iopub.status.busy": "2020-08-21T19:47:18.948964Z",
     "iopub.status.idle": "2020-08-21T19:47:19.299933Z",
     "shell.execute_reply": "2020-08-21T19:47:19.300569Z"
    },
    "papermill": {
     "duration": 0.369971,
     "end_time": "2020-08-21T19:47:19.300748",
     "exception": false,
     "start_time": "2020-08-21T19:47:18.930777",
     "status": "completed"
    },
    "tags": []
   },
   "outputs": [
    {
     "data": {
      "text/plain": [
       "<matplotlib.axes._subplots.AxesSubplot at 0x7f5484b4fd50>"
      ]
     },
     "execution_count": 4,
     "metadata": {},
     "output_type": "execute_result"
    },
    {
     "data": {
      "image/png": "[encoded data removed]",
      "text/plain": [
       "<Figure size 432x288 with 2 Axes>"
      ]
     },
     "metadata": {
      "needs_background": "light"
     },
     "output_type": "display_data"
    }
   ],
   "source": [
    "corr = df.corr()\n",
    "sns.heatmap(corr, xticklabels=corr.columns, yticklabels=corr.columns)"
   ]
  },
  {
   "cell_type": "markdown",
   "execution_count": null,
   "metadata": {
    "papermill": {
     "duration": 0.010226,
     "end_time": "2020-08-21T19:47:19.322155",
     "exception": false,
     "start_time": "2020-08-21T19:47:19.311929",
     "status": "completed"
    },
    "tags": []
   },
   "source": [
    "We're going to run Linear Regression, Gradient Boosting, Random Forest Classifier, and Support Vector Machine learnings tools from Scikit on three data frames: a \"small\" data frame, which will be anything that is 20% or more correlated to diabetes, a \"medium\" data frame, which will be anything that is 10% or more correlated, and a large data frame, which is all of the available data. By running all three, we can see if, in the case of this data set, focusing simply on correlation is beneficial or not in determining diabetes among Pima women."
   ]
  },
  {
   "cell_type": "code",
   "execution_count": 5,
   "metadata": {
    "execution": {
     "iopub.execute_input": "2020-08-21T19:47:19.349539Z",
     "iopub.status.busy": "2020-08-21T19:47:19.348743Z",
     "iopub.status.idle": "2020-08-21T19:47:19.380114Z",
     "shell.execute_reply": "2020-08-21T19:47:19.379395Z"
    },
    "papermill": {
     "duration": 0.047702,
     "end_time": "2020-08-21T19:47:19.380267",
     "exception": false,
     "start_time": "2020-08-21T19:47:19.332565",
     "status": "completed"
    },
    "tags": []
   },
   "outputs": [
    {
     "data": {
      "text/plain": [
       "Pregnancies    0.221898\n",
       "Glucose        0.466581\n",
       "BMI            0.292695\n",
       "Age            0.238356\n",
       "Outcome        1.000000\n",
       "Name: Outcome, dtype: float64"
      ]
     },
     "execution_count": 5,
     "metadata": {},
     "output_type": "execute_result"
    }
   ],
   "source": [
    "corr[abs(corr['Outcome']) > 0.2]['Outcome']"
   ]
  },
  {
   "cell_type": "code",
   "execution_count": 6,
   "metadata": {
    "execution": {
     "iopub.execute_input": "2020-08-21T19:47:19.411738Z",
     "iopub.status.busy": "2020-08-21T19:47:19.410728Z",
     "iopub.status.idle": "2020-08-21T19:47:19.415648Z",
     "shell.execute_reply": "2020-08-21T19:47:19.415003Z"
    },
    "papermill": {
     "duration": 0.024434,
     "end_time": "2020-08-21T19:47:19.415778",
     "exception": false,
     "start_time": "2020-08-21T19:47:19.391344",
     "status": "completed"
    },
    "tags": []
   },
   "outputs": [
    {
     "data": {
      "text/plain": [
       "Pregnancies                 0.221898\n",
       "Glucose                     0.466581\n",
       "Insulin                     0.130548\n",
       "BMI                         0.292695\n",
       "DiabetesPedigreeFunction    0.173844\n",
       "Age                         0.238356\n",
       "Outcome                     1.000000\n",
       "Name: Outcome, dtype: float64"
      ]
     },
     "execution_count": 6,
     "metadata": {},
     "output_type": "execute_result"
    }
   ],
   "source": [
    "corr[abs(corr['Outcome']) > 0.1]['Outcome']"
   ]
  },
  {
   "cell_type": "code",
   "execution_count": 7,
   "metadata": {
    "execution": {
     "iopub.execute_input": "2020-08-21T19:47:19.451385Z",
     "iopub.status.busy": "2020-08-21T19:47:19.446433Z",
     "iopub.status.idle": "2020-08-21T19:47:19.454871Z",
     "shell.execute_reply": "2020-08-21T19:47:19.454202Z"
    },
    "papermill": {
     "duration": 0.028179,
     "end_time": "2020-08-21T19:47:19.455002",
     "exception": false,
     "start_time": "2020-08-21T19:47:19.426823",
     "status": "completed"
    },
    "tags": []
   },
   "outputs": [],
   "source": [
    "small_df=df[['Pregnancies', 'Glucose', 'BMI', 'Age']]\n",
    "med_df=df[['Pregnancies', 'Glucose', 'Insulin', 'BMI', 'DiabetesPedigreeFunction', 'Age']]\n",
    "large_df = df.drop(columns=['Outcome'])"
   ]
  },
  {
   "cell_type": "code",
   "execution_count": 8,
   "metadata": {
    "execution": {
     "iopub.execute_input": "2020-08-21T19:47:19.483601Z",
     "iopub.status.busy": "2020-08-21T19:47:19.482815Z",
     "iopub.status.idle": "2020-08-21T19:47:19.486656Z",
     "shell.execute_reply": "2020-08-21T19:47:19.485742Z"
    },
    "papermill": {
     "duration": 0.020645,
     "end_time": "2020-08-21T19:47:19.486830",
     "exception": false,
     "start_time": "2020-08-21T19:47:19.466185",
     "status": "completed"
    },
    "tags": []
   },
   "outputs": [],
   "source": [
    "xs = small_df\n",
    "xm = med_df\n",
    "xl = large_df\n",
    "y = df['Outcome']"
   ]
  },
  {
   "cell_type": "markdown",
   "execution_count": null,
   "metadata": {
    "papermill": {
     "duration": 0.010912,
     "end_time": "2020-08-21T19:47:19.510830",
     "exception": false,
     "start_time": "2020-08-21T19:47:19.499918",
     "status": "completed"
    },
    "tags": []
   },
   "source": [
    "## Linear Regression"
   ]
  },
  {
   "cell_type": "code",
   "execution_count": 9,
   "metadata": {
    "execution": {
     "iopub.execute_input": "2020-08-21T19:47:19.539554Z",
     "iopub.status.busy": "2020-08-21T19:47:19.538761Z",
     "iopub.status.idle": "2020-08-21T19:47:19.794121Z",
     "shell.execute_reply": "2020-08-21T19:47:19.793455Z"
    },
    "papermill": {
     "duration": 0.272236,
     "end_time": "2020-08-21T19:47:19.794260",
     "exception": false,
     "start_time": "2020-08-21T19:47:19.522024",
     "status": "completed"
    },
    "tags": []
   },
   "outputs": [],
   "source": [
    "from sklearn.model_selection import train_test_split\n",
    "from sklearn.linear_model import LogisticRegression\n",
    "from sklearn.metrics import accuracy_score\n",
    "lr=LogisticRegression(max_iter=10000)"
   ]
  },
  {
   "cell_type": "code",
   "execution_count": 10,
   "metadata": {
    "execution": {
     "iopub.execute_input": "2020-08-21T19:47:19.829391Z",
     "iopub.status.busy": "2020-08-21T19:47:19.825649Z",
     "iopub.status.idle": "2020-08-21T19:47:19.879728Z",
     "shell.execute_reply": "2020-08-21T19:47:19.878763Z"
    },
    "papermill": {
     "duration": 0.074158,
     "end_time": "2020-08-21T19:47:19.879886",
     "exception": false,
     "start_time": "2020-08-21T19:47:19.805728",
     "status": "completed"
    },
    "tags": []
   },
   "outputs": [
    {
     "name": "stdout",
     "output_type": "stream",
     "text": [
      "Small DF Linear Regression Success Rate : 77.27%\n"
     ]
    }
   ],
   "source": [
    "x_train,x_test,y_train,y_test=train_test_split(xs,y,random_state=1,test_size=0.2)\n",
    "lr.fit(x_train,y_train)\n",
    "p1=lr.predict(x_test)\n",
    "s1=accuracy_score(y_test,p1)\n",
    "print(\"Small DF Linear Regression Success Rate :\", \"{:.2f}%\".format(100*s1))"
   ]
  },
  {
   "cell_type": "code",
   "execution_count": 11,
   "metadata": {
    "execution": {
     "iopub.execute_input": "2020-08-21T19:47:19.920549Z",
     "iopub.status.busy": "2020-08-21T19:47:19.919330Z",
     "iopub.status.idle": "2020-08-21T19:47:19.978526Z",
     "shell.execute_reply": "2020-08-21T19:47:19.979337Z"
    },
    "papermill": {
     "duration": 0.0826,
     "end_time": "2020-08-21T19:47:19.979606",
     "exception": false,
     "start_time": "2020-08-21T19:47:19.897006",
     "status": "completed"
    },
    "tags": []
   },
   "outputs": [
    {
     "name": "stdout",
     "output_type": "stream",
     "text": [
      "Medium DF Linear Regression Success Rate : 75.97%\n"
     ]
    }
   ],
   "source": [
    "x_train,x_test,y_train,y_test=train_test_split(xm,y,random_state=1,test_size=0.2)\n",
    "lr.fit(x_train,y_train)\n",
    "p1=lr.predict(x_test)\n",
    "s1=accuracy_score(y_test,p1)\n",
    "print(\"Medium DF Linear Regression Success Rate :\", \"{:.2f}%\".format(100*s1))"
   ]
  },
  {
   "cell_type": "code",
   "execution_count": 12,
   "metadata": {
    "execution": {
     "iopub.execute_input": "2020-08-21T19:47:20.016938Z",
     "iopub.status.busy": "2020-08-21T19:47:20.015780Z",
     "iopub.status.idle": "2020-08-21T19:47:20.084751Z",
     "shell.execute_reply": "2020-08-21T19:47:20.085443Z"
    },
    "papermill": {
     "duration": 0.093221,
     "end_time": "2020-08-21T19:47:20.085644",
     "exception": false,
     "start_time": "2020-08-21T19:47:19.992423",
     "status": "completed"
    },
    "tags": []
   },
   "outputs": [
    {
     "name": "stdout",
     "output_type": "stream",
     "text": [
      "Large DF Linear Regression Success Rate : 77.92%\n"
     ]
    }
   ],
   "source": [
    "x_train,x_test,y_train,y_test=train_test_split(xl,y,random_state=1,test_size=0.2)\n",
    "lr.fit(x_train,y_train)\n",
    "p1=lr.predict(x_test)\n",
    "s1=accuracy_score(y_test,p1)\n",
    "print(\"Large DF Linear Regression Success Rate :\", \"{:.2f}%\".format(100*s1))"
   ]
  },
  {
   "cell_type": "markdown",
   "execution_count": null,
   "metadata": {
    "papermill": {
     "duration": 0.01141,
     "end_time": "2020-08-21T19:47:20.108977",
     "exception": false,
     "start_time": "2020-08-21T19:47:20.097567",
     "status": "completed"
    },
    "tags": []
   },
   "source": [
    "In terms of Linear Regression, both the small and large set return with the same or nearly the same accuracy - not terrible, but not outstanding either."
   ]
  },
  {
   "cell_type": "markdown",
   "execution_count": null,
   "metadata": {
    "papermill": {
     "duration": 0.011923,
     "end_time": "2020-08-21T19:47:20.132882",
     "exception": false,
     "start_time": "2020-08-21T19:47:20.120959",
     "status": "completed"
    },
    "tags": []
   },
   "source": [
    "## Gradient Boosting"
   ]
  },
  {
   "cell_type": "code",
   "execution_count": 13,
   "metadata": {
    "execution": {
     "iopub.execute_input": "2020-08-21T19:47:20.162380Z",
     "iopub.status.busy": "2020-08-21T19:47:20.161447Z",
     "iopub.status.idle": "2020-08-21T19:47:20.321226Z",
     "shell.execute_reply": "2020-08-21T19:47:20.321899Z"
    },
    "papermill": {
     "duration": 0.177203,
     "end_time": "2020-08-21T19:47:20.322085",
     "exception": false,
     "start_time": "2020-08-21T19:47:20.144882",
     "status": "completed"
    },
    "tags": []
   },
   "outputs": [],
   "source": [
    "from sklearn.ensemble import GradientBoostingClassifier\n",
    "gbc=GradientBoostingClassifier()"
   ]
  },
  {
   "cell_type": "code",
   "execution_count": 14,
   "metadata": {
    "execution": {
     "iopub.execute_input": "2020-08-21T19:47:20.357314Z",
     "iopub.status.busy": "2020-08-21T19:47:20.353733Z",
     "iopub.status.idle": "2020-08-21T19:47:20.488858Z",
     "shell.execute_reply": "2020-08-21T19:47:20.487997Z"
    },
    "papermill": {
     "duration": 0.154997,
     "end_time": "2020-08-21T19:47:20.489050",
     "exception": false,
     "start_time": "2020-08-21T19:47:20.334053",
     "status": "completed"
    },
    "tags": []
   },
   "outputs": [
    {
     "name": "stdout",
     "output_type": "stream",
     "text": [
      "Small DF Gradient Booster Classifier Success Rate : 80.52%\n"
     ]
    }
   ],
   "source": [
    "x_train,x_test,y_train,y_test=train_test_split(xs,y,random_state=1,test_size=0.2)\n",
    "gbc.fit(x_train,y_train)\n",
    "p2=gbc.predict(x_test)\n",
    "s2=accuracy_score(y_test,p2)\n",
    "print(\"Small DF Gradient Booster Classifier Success Rate :\", \"{:.2f}%\".format(100*s2))"
   ]
  },
  {
   "cell_type": "code",
   "execution_count": 15,
   "metadata": {
    "execution": {
     "iopub.execute_input": "2020-08-21T19:47:20.525815Z",
     "iopub.status.busy": "2020-08-21T19:47:20.524759Z",
     "iopub.status.idle": "2020-08-21T19:47:20.682190Z",
     "shell.execute_reply": "2020-08-21T19:47:20.681424Z"
    },
    "papermill": {
     "duration": 0.181376,
     "end_time": "2020-08-21T19:47:20.682318",
     "exception": false,
     "start_time": "2020-08-21T19:47:20.500942",
     "status": "completed"
    },
    "tags": []
   },
   "outputs": [
    {
     "name": "stdout",
     "output_type": "stream",
     "text": [
      "Medium DF Gradient Booster Classifier Success Rate : 79.87%\n"
     ]
    }
   ],
   "source": [
    "x_train,x_test,y_train,y_test=train_test_split(xm,y,random_state=1,test_size=0.2)\n",
    "gbc.fit(x_train,y_train)\n",
    "p2=gbc.predict(x_test)\n",
    "s2=accuracy_score(y_test,p2)\n",
    "print(\"Medium DF Gradient Booster Classifier Success Rate :\", \"{:.2f}%\".format(100*s2))"
   ]
  },
  {
   "cell_type": "code",
   "execution_count": 16,
   "metadata": {
    "execution": {
     "iopub.execute_input": "2020-08-21T19:47:20.718363Z",
     "iopub.status.busy": "2020-08-21T19:47:20.714608Z",
     "iopub.status.idle": "2020-08-21T19:47:20.891446Z",
     "shell.execute_reply": "2020-08-21T19:47:20.890684Z"
    },
    "papermill": {
     "duration": 0.197353,
     "end_time": "2020-08-21T19:47:20.891608",
     "exception": false,
     "start_time": "2020-08-21T19:47:20.694255",
     "status": "completed"
    },
    "tags": []
   },
   "outputs": [
    {
     "name": "stdout",
     "output_type": "stream",
     "text": [
      "Large DF Gradient Booster Classifier Success Rate : 80.52%\n"
     ]
    }
   ],
   "source": [
    "x_train,x_test,y_train,y_test=train_test_split(xl,y,random_state=1,test_size=0.2)\n",
    "gbc.fit(x_train,y_train)\n",
    "p2=gbc.predict(x_test)\n",
    "s2=accuracy_score(y_test,p2)\n",
    "print(\"Large DF Gradient Booster Classifier Success Rate :\", \"{:.2f}%\".format(100*s2))"
   ]
  },
  {
   "cell_type": "markdown",
   "execution_count": null,
   "metadata": {
    "papermill": {
     "duration": 0.011716,
     "end_time": "2020-08-21T19:47:20.915430",
     "exception": false,
     "start_time": "2020-08-21T19:47:20.903714",
     "status": "completed"
    },
    "tags": []
   },
   "source": [
    "In terms of Gradient Boosting, all of the values vary with each run, where there is no clear leader; often the large set has the highest accuracy or is tied with the small set, whereas both the small and medium sets also often return the same values. Correlation seems to not be helpful in this situation."
   ]
  },
  {
   "cell_type": "markdown",
   "execution_count": null,
   "metadata": {
    "papermill": {
     "duration": 0.011579,
     "end_time": "2020-08-21T19:47:20.939231",
     "exception": false,
     "start_time": "2020-08-21T19:47:20.927652",
     "status": "completed"
    },
    "tags": []
   },
   "source": [
    "## Random Forest Classifier"
   ]
  },
  {
   "cell_type": "code",
   "execution_count": 17,
   "metadata": {
    "execution": {
     "iopub.execute_input": "2020-08-21T19:47:20.969383Z",
     "iopub.status.busy": "2020-08-21T19:47:20.968303Z",
     "iopub.status.idle": "2020-08-21T19:47:20.971769Z",
     "shell.execute_reply": "2020-08-21T19:47:20.971089Z"
    },
    "papermill": {
     "duration": 0.020823,
     "end_time": "2020-08-21T19:47:20.971905",
     "exception": false,
     "start_time": "2020-08-21T19:47:20.951082",
     "status": "completed"
    },
    "tags": []
   },
   "outputs": [],
   "source": [
    "from sklearn.ensemble import RandomForestClassifier\n",
    "rfc=RandomForestClassifier()"
   ]
  },
  {
   "cell_type": "code",
   "execution_count": 18,
   "metadata": {
    "execution": {
     "iopub.execute_input": "2020-08-21T19:47:21.004380Z",
     "iopub.status.busy": "2020-08-21T19:47:21.003482Z",
     "iopub.status.idle": "2020-08-21T19:47:21.299030Z",
     "shell.execute_reply": "2020-08-21T19:47:21.298381Z"
    },
    "papermill": {
     "duration": 0.315042,
     "end_time": "2020-08-21T19:47:21.299155",
     "exception": false,
     "start_time": "2020-08-21T19:47:20.984113",
     "status": "completed"
    },
    "tags": []
   },
   "outputs": [
    {
     "name": "stdout",
     "output_type": "stream",
     "text": [
      "Small DF Random Forest Classifier Success Rate : 77.92%\n"
     ]
    }
   ],
   "source": [
    "x_train,x_test,y_train,y_test=train_test_split(xs,y,random_state=1,test_size=0.2)\n",
    "rfc.fit(x_train,y_train)\n",
    "p3=rfc.predict(x_test)\n",
    "s3=accuracy_score(y_test,p3)\n",
    "print(\"Small DF Random Forest Classifier Success Rate :\", \"{:.2f}%\".format(100*s3))"
   ]
  },
  {
   "cell_type": "code",
   "execution_count": 19,
   "metadata": {
    "execution": {
     "iopub.execute_input": "2020-08-21T19:47:21.336326Z",
     "iopub.status.busy": "2020-08-21T19:47:21.335577Z",
     "iopub.status.idle": "2020-08-21T19:47:21.623477Z",
     "shell.execute_reply": "2020-08-21T19:47:21.622752Z"
    },
    "papermill": {
     "duration": 0.312058,
     "end_time": "2020-08-21T19:47:21.623623",
     "exception": false,
     "start_time": "2020-08-21T19:47:21.311565",
     "status": "completed"
    },
    "tags": []
   },
   "outputs": [
    {
     "name": "stdout",
     "output_type": "stream",
     "text": [
      "Medium DF Random Forest Classifier Success Rate : 78.57%\n"
     ]
    }
   ],
   "source": [
    "x_train,x_test,y_train,y_test=train_test_split(xm,y,random_state=1,test_size=0.2)\n",
    "rfc.fit(x_train,y_train)\n",
    "p3=rfc.predict(x_test)\n",
    "s3=accuracy_score(y_test,p3)\n",
    "print(\"Medium DF Random Forest Classifier Success Rate :\", \"{:.2f}%\".format(100*s3))"
   ]
  },
  {
   "cell_type": "code",
   "execution_count": 20,
   "metadata": {
    "execution": {
     "iopub.execute_input": "2020-08-21T19:47:21.657908Z",
     "iopub.status.busy": "2020-08-21T19:47:21.656734Z",
     "iopub.status.idle": "2020-08-21T19:47:21.948750Z",
     "shell.execute_reply": "2020-08-21T19:47:21.947938Z"
    },
    "papermill": {
     "duration": 0.313031,
     "end_time": "2020-08-21T19:47:21.948924",
     "exception": false,
     "start_time": "2020-08-21T19:47:21.635893",
     "status": "completed"
    },
    "tags": []
   },
   "outputs": [
    {
     "name": "stdout",
     "output_type": "stream",
     "text": [
      "Large DF Random Forest Classifier Success Rate : 79.22%\n"
     ]
    }
   ],
   "source": [
    "x_train,x_test,y_train,y_test=train_test_split(xl,y,random_state=1,test_size=0.2)\n",
    "rfc.fit(x_train,y_train)\n",
    "p3=rfc.predict(x_test)\n",
    "s3=accuracy_score(y_test,p3)\n",
    "print(\"Large DF Random Forest Classifier Success Rate :\", \"{:.2f}%\".format(100*s3))"
   ]
  },
  {
   "cell_type": "markdown",
   "execution_count": null,
   "metadata": {
    "papermill": {
     "duration": 0.012229,
     "end_time": "2020-08-21T19:47:21.974244",
     "exception": false,
     "start_time": "2020-08-21T19:47:21.962015",
     "status": "completed"
    },
    "tags": []
   },
   "source": [
    "In terms of using the Random Forest Classifier, the less correlation seems to be the better. The large set netted the highest accuracy (the best of any tool)."
   ]
  },
  {
   "cell_type": "markdown",
   "execution_count": null,
   "metadata": {
    "papermill": {
     "duration": 0.012044,
     "end_time": "2020-08-21T19:47:21.999026",
     "exception": false,
     "start_time": "2020-08-21T19:47:21.986982",
     "status": "completed"
    },
    "tags": []
   },
   "source": [
    "## Support Vector Classifier "
   ]
  },
  {
   "cell_type": "code",
   "execution_count": 21,
   "metadata": {
    "execution": {
     "iopub.execute_input": "2020-08-21T19:47:22.030790Z",
     "iopub.status.busy": "2020-08-21T19:47:22.029673Z",
     "iopub.status.idle": "2020-08-21T19:47:22.033383Z",
     "shell.execute_reply": "2020-08-21T19:47:22.032639Z"
    },
    "papermill": {
     "duration": 0.0221,
     "end_time": "2020-08-21T19:47:22.033612",
     "exception": false,
     "start_time": "2020-08-21T19:47:22.011512",
     "status": "completed"
    },
    "tags": []
   },
   "outputs": [],
   "source": [
    "from sklearn.svm import SVC\n",
    "svm=SVC()"
   ]
  },
  {
   "cell_type": "code",
   "execution_count": 22,
   "metadata": {
    "execution": {
     "iopub.execute_input": "2020-08-21T19:47:22.067941Z",
     "iopub.status.busy": "2020-08-21T19:47:22.067046Z",
     "iopub.status.idle": "2020-08-21T19:47:22.090739Z",
     "shell.execute_reply": "2020-08-21T19:47:22.090046Z"
    },
    "papermill": {
     "duration": 0.044268,
     "end_time": "2020-08-21T19:47:22.090880",
     "exception": false,
     "start_time": "2020-08-21T19:47:22.046612",
     "status": "completed"
    },
    "tags": []
   },
   "outputs": [
    {
     "name": "stdout",
     "output_type": "stream",
     "text": [
      "Small DF Support Vector Classifier Success Rate : 78.57%\n"
     ]
    }
   ],
   "source": [
    "x_train,x_test,y_train,y_test=train_test_split(xs,y,random_state=1,test_size=0.2)\n",
    "svm.fit(x_train,y_train)\n",
    "p4=svm.predict(x_test)\n",
    "s4=accuracy_score(y_test,p4)\n",
    "print(\"Small DF Support Vector Classifier Success Rate :\", \"{:.2f}%\".format(100*s4))"
   ]
  },
  {
   "cell_type": "code",
   "execution_count": 23,
   "metadata": {
    "execution": {
     "iopub.execute_input": "2020-08-21T19:47:22.128826Z",
     "iopub.status.busy": "2020-08-21T19:47:22.124461Z",
     "iopub.status.idle": "2020-08-21T19:47:22.149365Z",
     "shell.execute_reply": "2020-08-21T19:47:22.148676Z"
    },
    "papermill": {
     "duration": 0.045531,
     "end_time": "2020-08-21T19:47:22.149514",
     "exception": false,
     "start_time": "2020-08-21T19:47:22.103983",
     "status": "completed"
    },
    "tags": []
   },
   "outputs": [
    {
     "name": "stdout",
     "output_type": "stream",
     "text": [
      "Medium DF Support Vector Classifier Success Rate : 78.57%\n"
     ]
    }
   ],
   "source": [
    "x_train,x_test,y_train,y_test=train_test_split(xm,y,random_state=1,test_size=0.2)\n",
    "svm.fit(x_train,y_train)\n",
    "p4=svm.predict(x_test)\n",
    "s4=accuracy_score(y_test,p4)\n",
    "print(\"Medium DF Support Vector Classifier Success Rate :\", \"{:.2f}%\".format(100*s4))"
   ]
  },
  {
   "cell_type": "code",
   "execution_count": 24,
   "metadata": {
    "execution": {
     "iopub.execute_input": "2020-08-21T19:47:22.184293Z",
     "iopub.status.busy": "2020-08-21T19:47:22.183483Z",
     "iopub.status.idle": "2020-08-21T19:47:22.208937Z",
     "shell.execute_reply": "2020-08-21T19:47:22.207940Z"
    },
    "papermill": {
     "duration": 0.046444,
     "end_time": "2020-08-21T19:47:22.209107",
     "exception": false,
     "start_time": "2020-08-21T19:47:22.162663",
     "status": "completed"
    },
    "tags": []
   },
   "outputs": [
    {
     "name": "stdout",
     "output_type": "stream",
     "text": [
      "Large DF Support Vector Classifier Success Rate : 78.57%\n"
     ]
    }
   ],
   "source": [
    "x_train,x_test,y_train,y_test=train_test_split(xl,y,random_state=1,test_size=0.2)\n",
    "svm.fit(x_train,y_train)\n",
    "p4=svm.predict(x_test)\n",
    "s4=accuracy_score(y_test,p4)\n",
    "print(\"Large DF Support Vector Classifier Success Rate :\", \"{:.2f}%\".format(100*s4))"
   ]
  },
  {
   "cell_type": "markdown",
   "execution_count": null,
   "metadata": {
    "papermill": {
     "duration": 0.012588,
     "end_time": "2020-08-21T19:47:22.235455",
     "exception": false,
     "start_time": "2020-08-21T19:47:22.222867",
     "status": "completed"
    },
    "tags": []
   },
   "source": [
    "Using Support Vector Classifier, all three sets returned the same amount - 78.57% accuracy. "
   ]
  },
  {
   "cell_type": "markdown",
   "execution_count": null,
   "metadata": {
    "papermill": {
     "duration": 0.0138,
     "end_time": "2020-08-21T19:47:22.262661",
     "exception": false,
     "start_time": "2020-08-21T19:47:22.248861",
     "status": "completed"
    },
    "tags": []
   },
   "source": [
    "# Initial Conclusion"
   ]
  },
  {
   "cell_type": "markdown",
   "execution_count": null,
   "metadata": {
    "papermill": {
     "duration": 0.013274,
     "end_time": "2020-08-21T19:47:22.289046",
     "exception": false,
     "start_time": "2020-08-21T19:47:22.275772",
     "status": "completed"
    },
    "tags": []
   },
   "source": [
    "Based on the four machine learning tools used, using the whole dataset with a Random Forest Classifier nets the best result - usually just above 80% accuracy.\n",
    "\n",
    "80% and above isn't bad, but leaves room for improvement. "
   ]
  },
  {
   "cell_type": "code",
   "execution_count": null,
   "metadata": {
    "papermill": {
     "duration": 0.01244,
     "end_time": "2020-08-21T19:47:22.314542",
     "exception": false,
     "start_time": "2020-08-21T19:47:22.302102",
     "status": "completed"
    },
    "tags": []
   },
   "outputs": [],
   "source": []
  }
 ],
 "metadata": {
  "kernelspec": {
   "display_name": "Python 3",
   "language": "python",
   "name": "python3"
  },
  "language_info": {
   "codemirror_mode": {
    "name": "ipython",
    "version": 3
   },
   "file_extension": ".py",
   "mimetype": "text/x-python",
   "name": "python",
   "nbconvert_exporter": "python",
   "pygments_lexer": "ipython3",
   "version": "3.7.6"
  },
  "papermill": {
   "duration": 10.297037,
   "end_time": "2020-08-21T19:47:22.435587",
   "environment_variables": {},
   "exception": null,
   "input_path": "__notebook__.ipynb",
   "output_path": "__notebook__.ipynb",
   "parameters": {},
   "start_time": "2020-08-21T19:47:12.138550",
   "version": "2.1.0"
  }
 },
 "nbformat": 4,
 "nbformat_minor": 4
}
